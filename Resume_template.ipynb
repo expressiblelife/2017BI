{
 "cells": [
  {
   "cell_type": "markdown",
   "metadata": {},
   "source": [
    "# Resume"
   ]
  },
  {
   "cell_type": "markdown",
   "metadata": {},
   "source": [
    "# Joe Isaacson, (data) scientist\n",
    "\n",
    "I am a data scientist passionate about bring structure to the world's information. I am deeply motivated to build companies and projects from the ground-up. I have done research in information retrieval, knowledge graphs, bioinformatics and image processing. I enjoy a good rye whiskey, manual transmission cars and Paul Graham essays. Deep neural networks are awesome too.\n",
    "\n",
    "If you're interested in getting in contact, please send an email to <email@kaist.ac.kr>\n",
    "\n",
    "...unless you've written a CNN spam bot to OCR my contact info\n",
    "\n",
    "## Experience\n",
    "### *URX*  \n",
    "### Head of Science 2015-Present, Data Scientist 2014-2015\n",
    "URX has built the first deeplink search engine to enable developers to monetize applications via contextually relevant actions. I the head of data science at URX. In this role my teams and I have:\n",
    "* Built a knowledge graph from R&D through data pipelining. [Here's me nerding out on knowledge graphs](https://www.youtube.com/watch?v=pTHbYwX5noE)\n",
    "* Improved our core search, information retrieval algorithms through semantic search.\n",
    "* Launched new, visually appealing ad units imbued with semantic metadata.\n",
    "* Built web crawler ML algorithms including [content deduplication](http://blog.urx.com/urx-blog/2014/9/4/the-science-of-crawl-part-1-deduplication-of-web-content), [content freshness](http://blog.urx.com/urx-blog/2014/10/23/the-science-of-crawl-part-2-content-freshness) and [crawl prioritization](http://blog.urx.com/urx-blog/2015/3/31/the-science-of-crawl-part-3-prioritization).\n",
    "* Built customer LTV prediction algorithms\n",
    "* Built and drive analysis from an A/B testing engine, evangelizing our [core tenant, _Data Driven_](http://blog.urx.com/urx-blog/urxs-guiding-tenets)\n",
    "* Helped to hire, train and lead a team of scientists and engineers including mentoring via [Insight Data Science](http://insightdatascience.com/) and the Brown University alumni program.\n",
    "* I use python and Elasticsearch daily. `<3` pyspark\n",
    "\n",
    "### *MIT Lincoln Laboratory* \n",
    "### Data Scientist 2011-2014\n",
    "MIT Lincoln Laboratory is the government consulting arm of MIT campus. I was a data scientist at MIT LL working on a variety of client-facing projects including:\n",
    "* forensic bioinformatics: map/reduce DNA sequences to features and build learning algorithms to correlate DNA markers with physical features\n",
    "* sensor signal processing: develop learning algorithms to improve signal-to-noise of detection algorithms\n",
    "* video analytics: developed algorithms for consistent re-identification of human image profiles via machine learning. Also worked on algorithms for quickly summarizing events across large video files\n",
    "* Computer vision: worked on background subtraction and projective geometry algorithms to reconstruct 3D scenes from synchronized 2D images\n",
    "\n",
    "\n",
    "## Education\n",
    "### *ScB Applied Mathematics* \n",
    "### Brown University 2007-2011\n",
    "I took a large number of math and computer science courses. [Applied math](http://blog.urx.com/urx-blog/differential-equations-in-data-science) mainly. One day I hope to learn more [Pure math](http://en.wikipedia.org/wiki/Cantor_set). [I had a good GPA](http://www.businessinsider.com/how-google-hires-people-2013-6) but also fenced on the DIV-I team and did some running.\n",
    "\n",
    "## Random\n",
    "### I won the 2014 Data Science hackathon\n",
    "[Bayes Impact](http://www.bayesimpact.org/) sponsored a data science hackathon for social good. It was the first data science  hackathon in SV. The morning of I assembled a team, helped to drive a 32-hr deliverable, co-pitched our product and, proudly, took first place. Then I took a nice long nap. [We were featured in Mashable](http://mashable.com/2014/11/17/data-hackathon/).\n",
    "\n",
    "[I still have the code](https://github.com/jisaacso/team-thorn). It's ugly, please do not judge too harshly.\n",
    "\n",
    "### I've published a couple of papers\n",
    "While my publication history is slim, [I'm proud of the two I've written](https://www.researchgate.net/profile/Joseph_Isaacson). I've given many more poster sessions.\n",
    "\n",
    "\n",
    "### [Github](http://github.com/jisaacso)\n",
    "\n",
    "### [LinkedIn](https://www.linkedin.com/pub/joe-isaacson/2a/320/959)\n"
   ]
  },
  {
   "cell_type": "markdown",
   "metadata": {},
   "source": [
    "# Name"
   ]
  },
  {
   "cell_type": "code",
   "execution_count": null,
   "metadata": {},
   "outputs": [],
   "source": [
    "# Code to Print My Name"
   ]
  },
  {
   "cell_type": "markdown",
   "metadata": {},
   "source": [
    "# Student ID"
   ]
  },
  {
   "cell_type": "code",
   "execution_count": 2,
   "metadata": {},
   "outputs": [],
   "source": [
    "# Code to Print My Student ID"
   ]
  },
  {
   "cell_type": "markdown",
   "metadata": {},
   "source": [
    "# Email"
   ]
  },
  {
   "cell_type": "code",
   "execution_count": null,
   "metadata": {},
   "outputs": [],
   "source": [
    "# Code to Print My Email"
   ]
  },
  {
   "cell_type": "markdown",
   "metadata": {},
   "source": [
    "# [Git] My GitHub Account"
   ]
  },
  {
   "cell_type": "code",
   "execution_count": null,
   "metadata": {},
   "outputs": [],
   "source": [
    "# (ex: https://github.com/laftworld. The account MUST contain your resume.ipynb)"
   ]
  },
  {
   "cell_type": "markdown",
   "metadata": {},
   "source": [
    "# [Git] Pull Request Approval Code"
   ]
  },
  {
   "cell_type": "code",
   "execution_count": 3,
   "metadata": {},
   "outputs": [],
   "source": [
    "# (You will get approval code(ex: 0407) when you send pull request)"
   ]
  },
  {
   "cell_type": "markdown",
   "metadata": {},
   "source": [
    "# [Docker] My DockerHub Public Repository Address"
   ]
  },
  {
   "cell_type": "code",
   "execution_count": null,
   "metadata": {},
   "outputs": [],
   "source": [
    "# ex) https://hub.docker.com/r/laftworld/docker/"
   ]
  },
  {
   "cell_type": "markdown",
   "metadata": {},
   "source": [
    "# [Azure] My VM Address and Access Information"
   ]
  },
  {
   "cell_type": "code",
   "execution_count": null,
   "metadata": {},
   "outputs": [],
   "source": [
    "# id@address, password. (ex:ubuntu@52.250.126.70, 0407)"
   ]
  },
  {
   "cell_type": "markdown",
   "metadata": {},
   "source": [
    "# [Jupyter] Notebook Address and Access Information"
   ]
  },
  {
   "cell_type": "code",
   "execution_count": null,
   "metadata": {},
   "outputs": [],
   "source": [
    "# (ex: http://147.46.195.59:8888/, token:ASFREFGgegdger348kjk234jhk1j234hk. The account MUST contain your resume.ipynb)"
   ]
  },
  {
   "cell_type": "markdown",
   "metadata": {},
   "source": [
    "# Portfolio Code"
   ]
  },
  {
   "cell_type": "code",
   "execution_count": 2,
   "metadata": {},
   "outputs": [
    {
     "name": "stdout",
     "output_type": "stream",
     "text": [
      "abc\n"
     ]
    }
   ],
   "source": [
    "# Your Portfolio Code HERE\n",
    "print('abc')"
   ]
  }
 ],
 "metadata": {
  "kernelspec": {
   "display_name": "Python 3",
   "language": "python",
   "name": "python3"
  },
  "language_info": {
   "codemirror_mode": {
    "name": "ipython",
    "version": 3
   },
   "file_extension": ".py",
   "mimetype": "text/x-python",
   "name": "python",
   "nbconvert_exporter": "python",
   "pygments_lexer": "ipython3",
   "version": "3.6.3"
  }
 },
 "nbformat": 4,
 "nbformat_minor": 1
}
